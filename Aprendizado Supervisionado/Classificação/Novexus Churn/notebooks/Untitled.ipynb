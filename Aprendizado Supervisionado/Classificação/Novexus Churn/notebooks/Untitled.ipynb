{
 "cells": [
  {
   "cell_type": "code",
   "execution_count": 1,
   "id": "68fff7e0",
   "metadata": {},
   "outputs": [],
   "source": [
    "from textblob import TextBlob"
   ]
  },
  {
   "cell_type": "code",
   "execution_count": 4,
   "id": "60a5ec5f",
   "metadata": {},
   "outputs": [],
   "source": [
    "frase = \"Python é otimo para Machine Learning\"\n",
    "\n",
    "tb = TextBlob(frase)\n",
    "traducao = tb.translate(from_lang='pt_br', to='en')"
   ]
  },
  {
   "cell_type": "code",
   "execution_count": 7,
   "id": "209c5f82",
   "metadata": {},
   "outputs": [
    {
     "data": {
      "text/plain": [
       "0.8"
      ]
     },
     "execution_count": 7,
     "metadata": {},
     "output_type": "execute_result"
    }
   ],
   "source": [
    "traducao.sentiment.polarity"
   ]
  },
  {
   "cell_type": "code",
   "execution_count": 1,
   "id": "95563ebc",
   "metadata": {},
   "outputs": [],
   "source": [
    "import requests"
   ]
  },
  {
   "cell_type": "code",
   "execution_count": 2,
   "id": "b7ffdf08",
   "metadata": {},
   "outputs": [],
   "source": [
    "url = 'http://127.0.0.1:5000/novexus_churn/'"
   ]
  },
  {
   "cell_type": "code",
   "execution_count": 3,
   "id": "27011997",
   "metadata": {},
   "outputs": [],
   "source": [
    "dados = {\n",
    "    \"Idoso\" : 0,\n",
    "    \"Contrato_Ativo\": 9,\n",
    "    \"Valor_Mensal\": 65.6,\n",
    "    \"Valor_Total\": 593.3, \n",
    "    \"Genero\": 0,\n",
    "    \"Conjuge\": 1,\n",
    "    \"Dependentes\": 1,\n",
    "    \"Servico_Telefone\": 1, \n",
    "    \"Mult_Linhas\": 0,\n",
    "    \"Servico_Internet_Fibra Otica\":0, \n",
    "    \"Servico_Internet\": 0, \n",
    "    \"Seguranca_Online\":0,\n",
    "    \"Backup_Online\":1, \n",
    "    \"Protecao_Disp\":0, \n",
    "    \"Suporte_Tecnico\":1, \n",
    "    \"Stream_Tv\":1,\n",
    "    \"Stream_Filmes\":0, \n",
    "    \"Contrato_Dois anos\":0, \n",
    "    \"Contrato_Mensal\":0,\n",
    "    \"Fatura_Online\":1, \n",
    "    \"Forma_Pagamento_Correio\":1,\n",
    "    \"Forma_Pagamento_Pag. Eletronico\":0,\n",
    "    \"Forma_Pagamento_Transf. Aut.\":0\n",
    "}"
   ]
  },
  {
   "cell_type": "code",
   "execution_count": 14,
   "id": "590b4776",
   "metadata": {},
   "outputs": [],
   "source": [
    "auth = requests.auth.HTTPBasicAuth('julio', 'alura')"
   ]
  },
  {
   "cell_type": "code",
   "execution_count": 15,
   "id": "490f1d5d",
   "metadata": {},
   "outputs": [
    {
     "data": {
      "text/plain": [
       "<Response [200]>"
      ]
     },
     "execution_count": 15,
     "metadata": {},
     "output_type": "execute_result"
    }
   ],
   "source": [
    "response = requests.post(url, json=dados, auth=auth)\n",
    "response"
   ]
  },
  {
   "cell_type": "code",
   "execution_count": 16,
   "id": "585a8a70",
   "metadata": {},
   "outputs": [
    {
     "data": {
      "text/plain": [
       "200"
      ]
     },
     "execution_count": 16,
     "metadata": {},
     "output_type": "execute_result"
    }
   ],
   "source": [
    "response.status_code"
   ]
  },
  {
   "cell_type": "code",
   "execution_count": 17,
   "id": "7b693342",
   "metadata": {},
   "outputs": [
    {
     "data": {
      "text/plain": [
       "'Previsão de NÃO continuar como cliente!'"
      ]
     },
     "execution_count": 17,
     "metadata": {},
     "output_type": "execute_result"
    }
   ],
   "source": [
    "response.text"
   ]
  },
  {
   "cell_type": "code",
   "execution_count": null,
   "id": "0b9d425d",
   "metadata": {},
   "outputs": [],
   "source": []
  }
 ],
 "metadata": {
  "kernelspec": {
   "display_name": "Python 3 (ipykernel)",
   "language": "python",
   "name": "python3"
  },
  "language_info": {
   "codemirror_mode": {
    "name": "ipython",
    "version": 3
   },
   "file_extension": ".py",
   "mimetype": "text/x-python",
   "name": "python",
   "nbconvert_exporter": "python",
   "pygments_lexer": "ipython3",
   "version": "3.10.9"
  }
 },
 "nbformat": 4,
 "nbformat_minor": 5
}
